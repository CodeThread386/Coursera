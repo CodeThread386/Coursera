{
 "cells": [
  {
   "cell_type": "markdown",
   "id": "b12a395b-55ae-4ba6-84d3-dda0fb924d72",
   "metadata": {},
   "source": [
    "# Data Science Tools and Ecosystem\n"
   ]
  },
  {
   "cell_type": "markdown",
   "id": "0b03f66d-ba92-45df-a993-52978d5123e8",
   "metadata": {},
   "source": [
    "In this notebook, Data Science Tools and Ecosystem are summarized.\r\n"
   ]
  },
  {
   "cell_type": "markdown",
   "id": "acedf7ca-0b83-4519-8ee4-6afe5dae55fb",
   "metadata": {},
   "source": [
    "Some of the popular languages that Data Scientists use are:\r\n",
    "1. Python\r\n",
    "2. R\r\n",
    "3. SQL\r\n",
    "4. Julia\r\n"
   ]
  },
  {
   "cell_type": "markdown",
   "id": "bc222a79-9318-4ffd-8771-a8f20a118e63",
   "metadata": {},
   "source": [
    "Some of the commonly used libraries used by Data Scientists include:\r\n",
    "1. Pandas\r\n",
    "2. NumPy\r\n",
    "3. Matplotlib\r\n",
    "4. Scikit-learn\r\n"
   ]
  },
  {
   "cell_type": "markdown",
   "id": "9249b8e8-8d75-4cdf-bee1-8302595c276b",
   "metadata": {},
   "source": [
    "| Data Science Tools |\r\n",
    "|-------------------|\r\n",
    "| Jupyter Notebook  |\r\n",
    "| RStudio           |\r\n",
    "| Apache Zeppelin   |\r\n"
   ]
  },
  {
   "cell_type": "markdown",
   "id": "33bf02c9-2028-4a04-8ee8-2f293b7bc92f",
   "metadata": {},
   "source": [
    "### Below are a few examples of evaluating arithmetic expressions in Python.\r\n"
   ]
  },
  {
   "cell_type": "code",
   "execution_count": 1,
   "id": "93710d66-84d3-4e8e-9487-a7b5b7cf47ec",
   "metadata": {},
   "outputs": [
    {
     "data": {
      "text/plain": [
       "17"
      ]
     },
     "execution_count": 1,
     "metadata": {},
     "output_type": "execute_result"
    }
   ],
   "source": [
    "# This is a simple arithmetic expression to multiply then add integers\n",
    "(3*4)+5\n"
   ]
  },
  {
   "cell_type": "code",
   "execution_count": 2,
   "id": "e0ba07ea-4e9e-46c7-ab39-557b47942f77",
   "metadata": {},
   "outputs": [
    {
     "data": {
      "text/plain": [
       "3.3333333333333335"
      ]
     },
     "execution_count": 2,
     "metadata": {},
     "output_type": "execute_result"
    }
   ],
   "source": [
    "# This will convert 200 minutes to hours by dividing by 60\n",
    "200 / 60\n"
   ]
  },
  {
   "cell_type": "markdown",
   "id": "75d657ff-7ce8-42f7-95e4-a800140727e3",
   "metadata": {},
   "source": [
    "**Objectives:**\r\n",
    "\r\n",
    "- List popular languages for Data Science\r\n",
    "- List commonly used libraries in Data Science\r\n",
    "- Create tables using markdown in Jupyter Notebooks\r\n",
    "- Perform arithmetic operations using Python\r\n",
    "- Convert minutes to hours using Python code\r\n"
   ]
  },
  {
   "cell_type": "markdown",
   "id": "1c93c360-216d-44c3-8ccd-de9a6b2701e5",
   "metadata": {},
   "source": [
    "## Author\r",
    "Sarthak Trivedi\r\n"
   ]
  }
 ],
 "metadata": {
  "kernelspec": {
   "display_name": "Python 3 (ipykernel)",
   "language": "python",
   "name": "python3"
  },
  "language_info": {
   "codemirror_mode": {
    "name": "ipython",
    "version": 3
   },
   "file_extension": ".py",
   "mimetype": "text/x-python",
   "name": "python",
   "nbconvert_exporter": "python",
   "pygments_lexer": "ipython3",
   "version": "3.12.4"
  }
 },
 "nbformat": 4,
 "nbformat_minor": 5
}
